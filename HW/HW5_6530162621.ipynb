{
  "cells": [
    {
      "cell_type": "markdown",
      "metadata": {
        "id": "jL9Rk67Oz8DW"
      },
      "source": [
        "การบ้านครั้งสุดท้ายนี้ให้เขียนโปรแกรมการจำลองการระบาด กำหนดให้ข้อมูลของคนหนึ่งคนเก็บใน dictionary ดังนี้ \n",
        "\n",
        "1.   `id` เป็นจำนวนเต็มเก็บเลขประจำตัวของคน\n",
        "2.   `vaccinated` เป็นบูลีน แทนสถานะการรับฉีดวัคซีนว่าได้รับ (`True`) หรือยังไม่ได้รับ (`False`)\n",
        "3.   `coordinate` เป็นทูเปิลของจำนวนจริง 2 ค่า เก็บพิกัดในแนวแกน `x` และ `y` ของคนนั้น\n",
        "\n",
        "เช่น `{'id':20382921, 'vaccinated':False, 'coodinate': (204.368, 304.256)}` หมายถึง คนนี้มีเลขประจำตัว `20382921` ยังไม่ได้รับการฉีดวัคซีน และอยู่ที่พิกัด `x=204.368` และ `y=304.256`\n",
        "\n",
        "และเก็บข้อมูลประชากรเป็น list of dicts เช่น \n",
        "\n",
        "```\n",
        "[{'id':20382921, 'vaccinated':False, 'coodinate': (204.368, 304.256)}, \n",
        " {'id':20382952, 'vaccinated':True, 'coodinate': (201.280, 302.524)},\n",
        " {'id':20482912, 'vaccinated':False, 'coodinate': (202.102, 301.129)}]\n",
        " ```\n",
        "\n",
        "สั่ง run cell ข้างล่างนี้เพื่อสร้างข้อมูลประชากร (แบบสุ่ม) เก็บในตัวแปร `population` (`n` คือขนาดประชากร และ `vaccinated` คือเปอร์เซ็นต์ของประชากรที่ได้รับวัคซีน)\n",
        "\n"
      ]
    },
    {
      "cell_type": "code",
      "execution_count": null,
      "metadata": {
        "cellView": "form",
        "id": "ra1pJfZgTRuQ"
      },
      "outputs": [],
      "source": [
        "#@title\n",
        "n = 100 #@param {type:\"slider\", min:100, max:1000, step:1}\n",
        "vaccinated_percent = 40 #@param {type:\"slider\", min:0, max:100, step:1}\n",
        "\n",
        "import random \n",
        "random.seed(37)\n",
        "population = [{'id':int(random.random()*(10**8-10**7))+10**7,\\\n",
        "          'vaccinated': True if random.random()<vaccinated_percent/100 else False,\\\n",
        "          'coordinate':(random.random()*20+130,random.random()*40+200)} for i in range(n)]\n",
        "show_data(get_all_unjabbed_pairs(population, 4), get_coordinates(population, False))"
      ]
    },
    {
      "cell_type": "markdown",
      "metadata": {
        "id": "DbFyEHSOSiRK"
      },
      "source": [
        "--- \n",
        "## การส่งงาน\n",
        "  * Save a copy in Drive \n",
        "  * เปลี่ยนชื่อ Notebook ให้เป็น HW5_xxxxxxxxxx.ipynb โดย xxxxxxxxxx เป็นเลขประจำตัวนิสิต \n",
        "  * File -> Download -> Download .ipynb\n",
        "  * ส่งไฟล์ที่ดาวน์โหลดได้ใน MyCourseVille ก่อนเวลา <font color=red>**23:59 น. วันที่ 8 พฤศจิกายน 2565**</font> \n",
        "  * จะตรวจแฟ้ม .ipynb แฟ้มล่าสุดที่ส่งในระบบ MyCourseVille เท่านั้น\n",
        "\n",
        "<hr>\n",
        "\n",
        "## <font color=red>สำคัญ: อ่านตรงนี้ด้วย</font>\n",
        "- ข้อห้าม\n",
        " - ห้าม import ใด ๆ \n",
        " - ห้ามเปลี่ยนบรรทัด def ของฟังก์ชันที่ให้เขียน\n",
        " - ในกรณีที่ฟังก์ชันมีการคืนค่า ฟังก์ชันต้องคืนข้อมูลและประเภทข้อมูลตามที่กำหนดเท่านั้น\n",
        " - ห้ามเปลี่ยนบรรทัดแรกของ code cell\n",
        "- ส่งแฟ้ม .ipynb กี่ครั้งก็ได้ แต่จะตรวจแฟ้ม .ipynb **แฟ้มล่าสุด** เท่านั้น\n",
        "- <font color=red>ส่อทุจริต</font> เช่น\n",
        "  - ส่งโปรแกรมที่ผู้ส่งไม่สามารถอธิบายได้ว่า ใช้หลักการและทำงานอย่างไร\n",
        "  - หรือ ส่งโปรแกรมที่คล้ายกับโปรแกรมของผู้อื่นมาก ๆ (ไม่ว่าจะเป็นผู้ให้หรือผู้รับ จะตั้งใจหรือไม่ก็ตาม)\n",
        "  - ฉะนั้น\n",
        "    - ให้แน่ใจว่า ไม่ดูโปรแกรมของคนอื่น\n",
        "    - ให้แน่ใจว่า ไม่ได้ให้คนอื่นดูโปรแกรมของตัวเอง\n",
        "\n",
        "- หากพบว่า งานที่ส่งส่อทุจริต จะได้นิสิตจะได้ $0$ ใน<font color=red>การบ้านครั้งนี้ และการบ้านครั้งที่แล้ว ๆ</font>\n",
        "- จะตรวจให้คะแนน เมื่อ\n",
        " - แฟ้มที่ส่งครั้งหลังสุดใน MyCourseVille เป็นแฟ้มที่ตั้งชื่อตามที่กำหนด และเป็นแฟ้มที่ได้จากการ File->Download->Download .ipynb เท่านั้น (ไม่ใช่แฟ้ม .py แล้วมา rename เป็น .ipynb)\n",
        " - ฟังก์ชันที่เขียนส่งต้องอยู่ใน code cell สุดท้ายข้างล่างนี้\n",
        " - บรรทัดแรกของ code cell ทุกอันต้องขึ้นต้นด้วย `# HW5_Infection_Analysis` ตามที่ให้ไป\n",
        " - ไม่ทำในสิ่งที่ห้ามทำในข้อห้าม\n",
        " - code cell ทุกอันสามารถทำงานได้ (ไม่มี error)\n",
        "\n",
        "---"
      ]
    },
    {
      "cell_type": "markdown",
      "metadata": {
        "id": "U0Ll9SeOpWQ2"
      },
      "source": [
        "# งานที่ 1 (5 คะแนน)\n",
        "\n",
        "เขียนฟังก์ชัน `get_coordinates(population, vaccinated)` \n",
        "- รับ `population` เป็น list of dicts  ที่เก็บข้อมูลประชากร\n",
        "- รับ `vaccinated` เป็นบูลีน เพื่อเลือกว่าจะคืนค่าเป็นประชากรที่ได้รับ (`True`) หรือไม่ได้รับวัคซีน (`False`)\n",
        "- คืน dict ที่มีเลขประจำตัวเป็น key และพิกัดเป็น value \n",
        "\n",
        "เช่น\n",
        "\n",
        "```\n",
        "population = [\n",
        "    {'id': 71380410,\n",
        "    'vaccinated': True,\n",
        "    'coordinate': (142.35632697722804, 233.67679618203823)},\n",
        "    {'id': 85109525,\n",
        "    'vaccinated': False,\n",
        "    'coordinate': (142.62075930591354, 214.76919336251675)},\n",
        "    {'id': 57521675,\n",
        "    'vaccinated': False,\n",
        "    'coordinate': (143.65899867666593, 224.0267344699912)},\n",
        "    {'id': 35373207,\n",
        "    'vaccinated': False,\n",
        "    'coordinate': (144.72263074267343, 217.75509778988294)},\n",
        "    {'id': 96365445,\n",
        "    'vaccinated': False,\n",
        "    'coordinate': (146.76725209497084, 203.64110005292503)}\n",
        "]\n",
        "```\n",
        "```\n",
        "get_coordinates(population, False) จะคืนค่า \n",
        "{85109525: (142.62075930591354, 214.76919336251675),\n",
        " 57521675: (143.65899867666593, 224.0267344699912),\n",
        " 35373207: (144.72263074267343, 217.75509778988294),\n",
        " 96365445: (146.76725209497084, 203.64110005292503)}\n",
        "```"
      ]
    },
    {
      "cell_type": "code",
      "execution_count": null,
      "metadata": {
        "id": "ND70oKsVzzum"
      },
      "outputs": [],
      "source": [
        "# HW5_Infection_Analysis\n",
        "\n",
        "def get_coordinates(population, vaccinated):\n",
        "    ans = {}\n",
        "    for e in population:\n",
        "        if not e['vaccinated']:\n",
        "            ans[e['id']] = e['coordinate']\n",
        "\n",
        "    return ans"
      ]
    },
    {
      "cell_type": "markdown",
      "metadata": {
        "id": "g9I1NOXl3U49"
      },
      "source": [
        "# งานที่ 2 (5 คะแนน)\n",
        "\n",
        "เขียนฟังก์ชัน `get_all_unjabbed_pairs(population, radius)`\n",
        "- รับ `population` เป็น list of dicts เก็บข้อมูลประชากร `radius` เป็น float เก็บรัศมีการระบาด \n",
        "- คืน list of tuples  (`id1`, `id2`)  โดยที่ ทั้งสองเลขประจำตัวยังไม่ได้รับวัคซีน และอยู่ห่างกันไม่เกิน `radius`\n",
        "- ให้เรียงลิสต์ที่คืนตามทูเปิลของเลขประจำตัวจากน้อยไปมาก โดยให้แต่ละทูเปิลเก็บเลขประจำตัวช่องซ้ายให้มีค่าน้อยกว่าช่องขวา\n",
        "\n",
        "เช่น\n",
        "```\n",
        "population = [\n",
        "    {'id': 71380410,\n",
        "    'vaccinated': True,\n",
        "    'coordinate': (142.35632697722804, 233.67679618203823)},\n",
        "    {'id': 85109525,\n",
        "    'vaccinated': False,\n",
        "    'coordinate': (142.62075930591354, 214.76919336251675)},\n",
        "    {'id': 57521675,\n",
        "    'vaccinated': False,\n",
        "    'coordinate': (143.65899867666593, 224.0267344699912)},\n",
        "    {'id': 35373207,\n",
        "    'vaccinated': False,\n",
        "    'coordinate': (144.72263074267343, 217.75509778988294)},\n",
        "    {'id': 96365445,\n",
        "    'vaccinated': False,\n",
        "    'coordinate': (146.76725209497084, 203.64110005292503)}\n",
        "]\n",
        "```\n",
        "```\n",
        "get_all_unjabbed_pairs(population, 10) จะคืนค่า\n",
        "[(35373207, 57521675), (35373207, 85109525), (57521675, 85109525)]\n",
        "```"
      ]
    },
    {
      "cell_type": "code",
      "execution_count": null,
      "metadata": {
        "id": "GiP4Z9gO3UcR"
      },
      "outputs": [],
      "source": [
        "# HW5_Infection_Analysis\n",
        "\n",
        "def get_all_unjabbed_pairs(population, radius):\n",
        "    ans = []\n",
        "    for i in range(len(population)):\n",
        "        if not population[i]['vaccinated']:\n",
        "            for j in range(i+1,len(population)):\n",
        "                if not population[j]['vaccinated'] and ((population[i]['coordinate'][0] - population[j]['coordinate'][0])**2 + (population[i]['coordinate'][1] - population[j]['coordinate'][1])**2)**0.5 <= radius:\n",
        "                    if population[i]['id'] < population[j]['id']:\n",
        "                        ans.append((population[i]['id'],population[j]['id']))\n",
        "                    else:\n",
        "                        ans.append((population[j]['id'],population[i]['id']))\n",
        "\n",
        "    return sorted(ans)"
      ]
    },
    {
      "cell_type": "markdown",
      "metadata": {
        "id": "7AwxB4Eix2kd"
      },
      "source": [
        "# งานที่ 3 (10 คะแนน)\n",
        "\n",
        "เขียนฟังก์ชัน `first_hop(population, id, radius)` \n",
        "- รับ `population` เป็น list of dicts เก็บข้อมูลประชากร `id` เป็นจำนวนเต็ม เก็บเลขประจำตัว และ`radius` เป็น float เก็บรัศมีการระบาด \n",
        "- คืน list of เลขประจำตัวต่าง ๆ ที่ยังไม่ได้รับวัคซีน และอยู่ห่างจากคนที่เลขประจำตัว `id` ในระยะไม่เกิน `radius`\n",
        "- โดยให้เรียงลิสต์ที่คืนตามเลขประจำตัวจากน้อยไปมาก (หากไม่มีข้อมูลอะไรคืนเลย ก็คืนลิสต์ว่าง)\n",
        "\n",
        "เช่น\n",
        "```\n",
        "population = [\n",
        "    {'id': 71380410,\n",
        "    'vaccinated': True,\n",
        "    'coordinate': (142.35632697722804, 233.67679618203823)},\n",
        "    {'id': 85109525,\n",
        "    'vaccinated': False,\n",
        "    'coordinate': (142.62075930591354, 214.76919336251675)},\n",
        "    {'id': 57521675,\n",
        "    'vaccinated': False,\n",
        "    'coordinate': (143.65899867666593, 224.0267344699912)},\n",
        "    {'id': 35373207,\n",
        "    'vaccinated': False,\n",
        "    'coordinate': (144.72263074267343, 217.75509778988294)},\n",
        "    {'id': 96365445,\n",
        "    'vaccinated': False,\n",
        "    'coordinate': (146.76725209497084, 203.64110005292503)}\n",
        "]\n",
        "```\n",
        "```\n",
        "first_hop(population, 85109525, 10) จะคืนค่า\n",
        "[35373207, 57521675]\n",
        "```"
      ]
    },
    {
      "cell_type": "code",
      "execution_count": null,
      "metadata": {
        "id": "RImqheX1qb_B"
      },
      "outputs": [],
      "source": [
        "# HW5_Infection_Analysis\n",
        "\n",
        "def first_hop(population, id, radius):\n",
        "    ans = []\n",
        "    focus = (0.,0.)\n",
        "    for e in population:\n",
        "        if e['id'] == id:\n",
        "            focus = e['coordinate']\n",
        "            break\n",
        "    for e in population:\n",
        "        if e['id'] != id and ((e['coordinate'][0] - focus[0])**2 + (e['coordinate'][1] - focus[1])**2)**0.5 <= radius:\n",
        "            ans.append(e['id'])\n",
        "\n",
        "    return sorted(ans)"
      ]
    },
    {
      "cell_type": "markdown",
      "metadata": {
        "id": "-H3kLk2D6_L2"
      },
      "source": [
        "# งานที่ 4 (10 คะแนน)\n",
        "\n",
        "เขียนฟังก์ชัน `get_adjacency_set(pairs)` \n",
        "- รับ `pairs` เป็น list of tuples ซึ่งเก็บข้อมูลในรูปแบบเดียวกับผลที่ได้จากฟังก์ชัน `get_all_unjabbed_pairs` ในงานที่ 2\n",
        "- คืน dict ที่มีเลขประจำตัวทุกหมายเลขใน `pairs` เป็น key โดยที่ value เป็น set ของเลขประจำตัวต่าง ๆ ที่อยู่ในทูเปิลเดียวกับค่า key เช่น\n",
        "\n",
        "\n",
        "เช่น\n",
        "```\n",
        "pairs = [\n",
        "    (35373207, 57521675), \n",
        "    (35373207, 85109525), \n",
        "    (57521675, 85109525)\n",
        "]\n",
        "```\n",
        "```\n",
        "get_adjacency_set(pairs) จะคืนค่า \n",
        "{35373207: {57521675, 85109525}, 57521675: {85109525, 35373207}, 85109525: {57521675, 35373207}}\n",
        "```\n",
        "\n",
        "```\n",
        "get_adjacency_set([(1,2),(1,3),(2,4),(4,5),(7,8)]) จะคืนค่า\n",
        "{1: {2, 3}, 2: {1, 4}, 3: {1}, 4: {2, 5}, 5: {4}, 7: {8}, 8: {7}}\n",
        "```"
      ]
    },
    {
      "cell_type": "code",
      "execution_count": null,
      "metadata": {
        "id": "e7oyZ2SF79-A"
      },
      "outputs": [],
      "source": [
        "# HW5_Infection_Analysis\n",
        "\n",
        "def get_adjacency_set(pairs):\n",
        "    ans = {}\n",
        "    for e in pairs:\n",
        "        if e[0] in ans:\n",
        "            ans[e[0]] |= {e[1]}\n",
        "        else:\n",
        "            ans[e[0]] = {e[1]}\n",
        "        if e[1] in ans:\n",
        "            ans[e[1]] |= {e[0]}\n",
        "        else:\n",
        "            ans[e[1]] = {e[0]}\n",
        "    return ans"
      ]
    },
    {
      "cell_type": "markdown",
      "metadata": {
        "id": "ZWuD2DxLHhPs"
      },
      "source": [
        "# งานที่ 5 (15 คะแนน)\n",
        "\n",
        "เขียนฟังก์ชัน `get_infectable_ids(pairs, seed)` \n",
        "- รับ `pairs` เป็น list of tuples ซึ่งเก็บข้อมูลในรูปแบบเดียวกับผลที่ได้จากฟังก์ชัน `get_all_unjabbed_pairs` ในงานที่ 2 และ `seed` เป็นจำนวนเต็มเก็บเลขประจำตัว\n",
        "- คืน set ที่เก็บเลขประจำตัวต่าง ๆ ที่โรคสามารถระบาดไปถึงได้ ถ้า `seed` เป็นจุดเริ่มต้นของการระบาด\n",
        "- ให้ใช้ flowchart ด้านล่างนี้เป็นแนวทางการทำงาน รวมถึงการใช้ฟังก์ชันก่อนหน้านี้มาช่วยในการเขียนฟังก์ชั้นนี้\n",
        "\n",
        "<img src='https://www.mycourseville.com/sites/all/modules/courseville/files/ckfinder/userfiles/100006056910939/files/2565_1_HW05_connected_ID_6360c23b59ee6.png' width=250px>\n",
        "\n",
        "เช่น หากคู่เลขประจำตัวต่าง ๆ ที่ยังไม่ได้รับวัคซีน และสามารถแพร่เชื้อถึงกันได้ เป็นดังนี้ \n",
        "```\n",
        "pairs = [(1,2),(1,3),(2,4),(4,5),(7,8)]\n",
        "```\n",
        "<img src='https://www.mycourseville.com/sites/all/modules/courseville/files/ckfinder/userfiles/100006056910939/files/2565_1_HW05_adj_id_6360ca4858fb3.png'>\n",
        "\n",
        "เมื่อเรียก `get_adjacency_set(pairs)` จะได้ dict\n",
        "```\n",
        "{1: {2, 3}, 2: {1, 4}, 3: {1}, 4: {2, 5}, 5: {4}, 7: {8}, 8: {7}}\n",
        "```\n",
        "ที่ทำให้หาได้รวดเร็วว่า เลขประจำตัวใดบ้างที่สามารถรับเชื้อได้จากเลขประจำตัวที่เป็นคีย์ \n",
        "\n",
        "จะได้ว่า \n",
        "```\n",
        "get_infectable_ids(pairs, 2) จะคืนค่า {1, 2, 3, 4, 5}\n",
        "```\n",
        "\n",
        "\n",
        "หมายเหตุ: ตรงส่วนที่เขียนใน flowchart ว่า `append all adjacent ids, which is not in output, of p into f` หมายความว่า ให้ append เลขประจำตัวทั้งหมดที่เชื่อมกับ `p` ลงในลิสต์ `f` โดยต้องเป็นเลขประจำตัวที่ไม่อยู่ใน `output`\n",
        "\n",
        "เช่น ถ้า `p` เก็บค่า 2 ให้นำ 1 กับ 4 (เฉพาะหมายเลขที่ไม่มีมีใน output) ไปเพิ่มต่อท้ายใน `f` \n",
        "\n",
        "ผลลัพธ์ที่ได้จาก flowchart จะเป็นลิสต์ที่เก็บอยู่ในตัวแปร `output` "
      ]
    },
    {
      "cell_type": "code",
      "execution_count": null,
      "metadata": {
        "id": "_A3rrpBSHP1F"
      },
      "outputs": [],
      "source": [
        "# HW5_Infection_Analysis\n",
        "\n",
        "def get_infectable_ids(pairs,seed):\n",
        "    output = set()\n",
        "    f = [seed]\n",
        "    while len(f) != 0:\n",
        "        p = f.pop(0)\n",
        "        output |= {p}\n",
        "        for e in get_adjacency_set(pairs)[p]:\n",
        "            if e not in output:\n",
        "                f.append(e)\n",
        "    return output"
      ]
    },
    {
      "cell_type": "markdown",
      "metadata": {
        "id": "0P8QNKGlPq-7"
      },
      "source": [
        "# งานที่ 6 (15 คะแนน)\n",
        "\n",
        "เขียนฟังก์ชัน `get_all_clusters(pairs)` \n",
        "- รับ `pairs` เป็น list of tuples ซึ่งเก็บข้อมูลในรูปแบบเดียวกับผลที่ได้จากฟังก์ชัน `get_all_unjabbed_pairs` ในงานที่ 2\n",
        "- คืน list of sets แทนกลุ่มก้อนการระบาดในแต่ละกลุ่ม แต่ละ set แทนกลุ่มการระบาด  \n",
        "\n",
        "ตัวอย่างเช่น \n",
        "\n",
        "หาก `pairs=[(1,2),(1,3),(2,4),(4,5),(7,8)]` \n",
        "\n",
        "`get_all_clusters(pairs)` จะคืนค่า `[{1, 2, 3, 4, 5}, {7, 8}]`\n"
      ]
    },
    {
      "cell_type": "code",
      "execution_count": null,
      "metadata": {
        "id": "k75zveo_OAEP"
      },
      "outputs": [],
      "source": [
        "# HW5_Infection_Analysis\n",
        "\n",
        "def get_all_clusters(pairs):\n",
        "    pairs = [(min(e),max(e)) for e in pairs]\n",
        "    pairs.sort()\n",
        "    ans = []\n",
        "    s = get_infectable_ids(pairs,pairs[0][0])\n",
        "    for e in pairs:\n",
        "        k = min(e)\n",
        "        if k in s:\n",
        "            continue\n",
        "        else:\n",
        "            # if s not in ans:  # o(n^2)\n",
        "            ans.append(s)\n",
        "            s = get_infectable_ids(pairs,k)\n",
        "    # if s not in ans:\n",
        "        ans.append(s)\n",
        "    return ans"
      ]
    },
    {
      "cell_type": "markdown",
      "metadata": {
        "id": "VS6_4-Srwv-x"
      },
      "source": [
        "### ลองเล่น ๆ ###\n",
        "\n",
        "หากเขียนฟังก์ชัน 1 และ 2 ถูกต้อง (ไม่เกี่ยวกับการเรียงลำดับ) เมื่อสั่ง run เซลล์ด้านล่างนี้ จะได้รูปที่แสดงเส้นเชื่อมของคู่คนที่ยังไม่ได้รับวัคซีน ดังตัวอย่างรูปด้านล่าง\n",
        "\n",
        "<img src='https://www.mycourseville.com/sites/all/modules/courseville/files/ckfinder/userfiles/100006056910939/files/2565_1_HW05_sample_6360c26284b61.png'>"
      ]
    },
    {
      "cell_type": "code",
      "execution_count": null,
      "metadata": {},
      "outputs": [],
      "source": [
        "#@title\n",
        "n = 100 #@param {type:\"slider\", min:100, max:1000, step:1}\n",
        "vaccinated_percent = 40 #@param {type:\"slider\", min:0, max:100, step:1}\n",
        "\n",
        "import random \n",
        "random.seed(37)\n",
        "import matplotlib.pyplot as plt \n",
        "\n",
        "def show_data(pairs,population_ids):\n",
        "  fig,ax=plt.subplots()\n",
        "  for pair in pairs:\n",
        "    plt.plot([population_ids[pair[0]][0],population_ids[pair[1]][0]],\n",
        "            [population_ids[pair[0]][1],population_ids[pair[1]][1]],'g',alpha=0.4)\n",
        "  ax.set_aspect('equal', 'box')\n",
        "  plt.show()\n",
        "\n",
        "population = [{'id':int(random.random()*(10**8-10**7))+10**7,\\\n",
        "          'vaccinated': True if random.random()<vaccinated_percent/100 else False,\\\n",
        "          'coordinate':(random.random()*20+130,random.random()*40+200)} for i in range(n)]\n",
        "show_data(get_all_unjabbed_pairs(population, 4), get_coordinates(population, False))"
      ]
    }
  ],
  "metadata": {
    "colab": {
      "collapsed_sections": [],
      "provenance": []
    },
    "kernelspec": {
      "display_name": "Python 3.10.6 ('comprog')",
      "language": "python",
      "name": "python3"
    },
    "language_info": {
      "codemirror_mode": {
        "name": "ipython",
        "version": 3
      },
      "file_extension": ".py",
      "mimetype": "text/x-python",
      "name": "python",
      "nbconvert_exporter": "python",
      "pygments_lexer": "ipython3",
      "version": "3.10.6"
    },
    "vscode": {
      "interpreter": {
        "hash": "1ab626a8d126ccc91a1122aff4da06173290b90ffc047dcda0002554a4721a78"
      }
    }
  },
  "nbformat": 4,
  "nbformat_minor": 0
}
